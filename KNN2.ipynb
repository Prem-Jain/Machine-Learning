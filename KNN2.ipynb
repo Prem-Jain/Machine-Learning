{
 "cells": [
  {
   "cell_type": "markdown",
   "id": "da3bd581",
   "metadata": {},
   "source": [
    "# Importing Libraries"
   ]
  },
  {
   "cell_type": "code",
   "execution_count": 1,
   "id": "dcc44a4f",
   "metadata": {},
   "outputs": [],
   "source": [
    "from sklearn.neighbors import KNeighborsClassifier\n",
    "from sklearn.model_selection import train_test_split\n",
    "from sklearn.datasets import load_iris\n",
    "import random"
   ]
  },
  {
   "cell_type": "code",
   "execution_count": 2,
   "id": "7d7a3a27",
   "metadata": {},
   "outputs": [],
   "source": [
    "import warnings\n",
    "warnings.filterwarnings(\"ignore\")"
   ]
  },
  {
   "cell_type": "markdown",
   "id": "3d315ee3",
   "metadata": {},
   "source": [
    "# Loading Datasets"
   ]
  },
  {
   "cell_type": "code",
   "execution_count": 3,
   "id": "0be3423d",
   "metadata": {},
   "outputs": [],
   "source": [
    "data_iris = load_iris()\n",
    "label_target = data_iris.target_names"
   ]
  },
  {
   "cell_type": "markdown",
   "id": "3cf366d4",
   "metadata": {},
   "source": [
    "# Printing random Data from DataFrame"
   ]
  },
  {
   "cell_type": "code",
   "execution_count": 4,
   "id": "9ca4b552",
   "metadata": {},
   "outputs": [
    {
     "name": "stdout",
     "output_type": "stream",
     "text": [
      "\n",
      " Sample Data from Iris Dataset\n",
      "******************************\n",
      "[6.  2.2 4.  1. ] ===> versicolor\n",
      "[4.8 3.  1.4 0.1] ===> setosa\n",
      "[6.9 3.1 4.9 1.5] ===> versicolor\n",
      "[4.7 3.2 1.6 0.2] ===> setosa\n",
      "[6.8 3.  5.5 2.1] ===> virginica\n"
     ]
    }
   ],
   "source": [
    "label_target = data_iris.target_names\n",
    "print(\"\\n Sample Data from Iris Dataset\")\n",
    "print(\"*\" * 30)\n",
    "for i in range(5):\n",
    "    rn = random.randint(0, 120)\n",
    "    print(data_iris.data[rn], \"===>\", label_target[data_iris.target[rn]])"
   ]
  },
  {
   "cell_type": "markdown",
   "id": "28113f47",
   "metadata": {},
   "source": [
    "# Extracting Feature Matrix and Target Vector"
   ]
  },
  {
   "cell_type": "code",
   "execution_count": 5,
   "id": "cdb898b7",
   "metadata": {},
   "outputs": [],
   "source": [
    "x = data_iris.data\n",
    "y = data_iris.target"
   ]
  },
  {
   "cell_type": "markdown",
   "id": "d3d7b776",
   "metadata": {},
   "source": [
    "# Spliting the data into train and test data"
   ]
  },
  {
   "cell_type": "code",
   "execution_count": 6,
   "id": "2d977424",
   "metadata": {},
   "outputs": [],
   "source": [
    "x_train, x_test, y_train, y_test = train_test_split(x, y, test_size = 0.3, random_state=1)"
   ]
  },
  {
   "cell_type": "code",
   "execution_count": 7,
   "id": "c8f99b1d",
   "metadata": {
    "scrolled": true
   },
   "outputs": [
    {
     "name": "stdout",
     "output_type": "stream",
     "text": [
      "The Training dataset length :  105\n",
      "The Testing dataset length :  45\n"
     ]
    }
   ],
   "source": [
    "print(\"The Training dataset length : \", len(x_train))\n",
    "print(\"The Testing dataset length : \", len(x_test))"
   ]
  },
  {
   "cell_type": "markdown",
   "id": "b7e3b58c",
   "metadata": {},
   "source": [
    "# Training and Predicting the values"
   ]
  },
  {
   "cell_type": "code",
   "execution_count": 8,
   "id": "92380ac7",
   "metadata": {},
   "outputs": [
    {
     "name": "stdout",
     "output_type": "stream",
     "text": [
      "Enter number of neighbours : 5\n",
      "The Score is :  0.9777777777777777\n",
      "Ente Test Data :5.0, 2.5, 1.2, 7.5\n",
      "\n",
      "Predicted outputis : virginica\n"
     ]
    }
   ],
   "source": [
    "try:\n",
    "    nn = int(input(\"Enter number of neighbours : \"))\n",
    "    knn = KNeighborsClassifier(nn)\n",
    "    knn.fit(x_train, y_train)\n",
    "    print(\"The Score is : \", knn.score(x_test, y_test))\n",
    "    test_data = input(\"Ente Test Data :\").split(\",\")\n",
    "    for i in range(len(test_data)):\n",
    "        test_data[i] = float(test_data[i])\n",
    "    print()\n",
    "    v = knn.predict([test_data])\n",
    "    print(\"Predicted outputis :\", label_target[v][0])\n",
    "except Exception as e:\n",
    "    print(\"Enter Valid Input...\")\n",
    "    print(e)"
   ]
  }
 ],
 "metadata": {
  "kernelspec": {
   "display_name": "Python 3 (ipykernel)",
   "language": "python",
   "name": "python3"
  },
  "language_info": {
   "codemirror_mode": {
    "name": "ipython",
    "version": 3
   },
   "file_extension": ".py",
   "mimetype": "text/x-python",
   "name": "python",
   "nbconvert_exporter": "python",
   "pygments_lexer": "ipython3",
   "version": "3.9.13"
  }
 },
 "nbformat": 4,
 "nbformat_minor": 5
}
